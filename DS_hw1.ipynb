{
 "cells": [
  {
   "cell_type": "code",
   "execution_count": 7,
   "id": "277ac012-6cfc-42ef-9d39-2dc6197f369c",
   "metadata": {},
   "outputs": [],
   "source": [
    "import numpy as np\n",
    "import random"
   ]
  },
  {
   "cell_type": "code",
   "execution_count": 48,
   "id": "001b2fcc-8ce4-4614-adfd-f35ddf000f01",
   "metadata": {},
   "outputs": [
    {
     "name": "stdout",
     "output_type": "stream",
     "text": [
      "[ 1  2  3  4  5  6  7  8  9 10]\n"
     ]
    }
   ],
   "source": [
    "#Створіть одновимірний масив (вектор) з першими 10-ма натуральними числами та виведіть його значення.\n",
    "a = np.arange(1, 11)\n",
    "print(a)"
   ]
  },
  {
   "cell_type": "code",
   "execution_count": 4,
   "id": "684a8fd2-bd86-49f2-b2a5-9c8f772178f2",
   "metadata": {},
   "outputs": [
    {
     "name": "stdout",
     "output_type": "stream",
     "text": [
      "[[0 0 0]\n",
      " [0 0 0]\n",
      " [0 0 0]]\n"
     ]
    }
   ],
   "source": [
    "#Створіть двовимірний масив (матрицю) розміром 3x3, заповніть його нулями та виведіть його значення.\n",
    "B = np.zeros((3, 3), dtype = int)\n",
    "print(B)"
   ]
  },
  {
   "cell_type": "code",
   "execution_count": 8,
   "id": "5da73325-9cb9-42c1-8c3d-29c171b98f08",
   "metadata": {},
   "outputs": [
    {
     "name": "stdout",
     "output_type": "stream",
     "text": [
      "[[ 7  4 10]\n",
      " [10  2  2]\n",
      " [ 7  3  3]]\n"
     ]
    }
   ],
   "source": [
    "#Створіть масив розміром 5x5, заповніть його випадковими цілими числами в діапазоні від 1 до 10 та виведіть його значення.\n",
    "C = np.zeros((3, 3), dtype = int)\n",
    "for i in range(3):\n",
    "    for j in range(3):\n",
    "        C[i,j] = random.randint(1, 10)\n",
    "print(C)"
   ]
  },
  {
   "cell_type": "code",
   "execution_count": 10,
   "id": "15a6b644-db55-4f76-832f-6a4350981669",
   "metadata": {},
   "outputs": [
    {
     "name": "stdout",
     "output_type": "stream",
     "text": [
      "[[0.0937464  0.53493614 0.26143674 0.66575813]\n",
      " [0.08922948 0.11772865 0.58988397 0.05745831]\n",
      " [0.78681477 0.72197007 0.2341017  0.75748605]\n",
      " [0.80933572 0.77367389 0.04707355 0.32526573]]\n"
     ]
    }
   ],
   "source": [
    "#Створіть масив розміром 4x4, заповніть його випадковими дійсними числами в діапазоні від 0 до 1 та виведіть його значення.\n",
    "D = np.random.random((4, 4))\n",
    "print(D)"
   ]
  },
  {
   "cell_type": "code",
   "execution_count": 17,
   "id": "38061007-95f0-4f5c-80e7-c37e2b352531",
   "metadata": {},
   "outputs": [
    {
     "name": "stdout",
     "output_type": "stream",
     "text": [
      "E = [2 7 1 2 9]\n",
      "F = [7 8 2 2 8]\n",
      "e+f = [ 9 15  3  4 17]\n",
      "e-f = [-5 -1 -1  0  1]\n",
      "f-e = [ 5  1  1  0 -1]\n",
      "e*f = [14 56  2  4 72]\n"
     ]
    }
   ],
   "source": [
    "#Створіть два одновимірних масиви розміром 5, заповніть їх випадковими цілими числами в діапазоні від 1 до 10 та виконайте на них поелементні операції додавання, віднімання та множення.\n",
    "e = np.random.randint(11, size=5)\n",
    "f = np.random.randint(11, size=5)\n",
    "print(f\"E = {e}\")\n",
    "print(f\"F = {f}\")\n",
    "print(f\"e+f = {e+f}\")\n",
    "print(f\"e-f = {e-f}\")\n",
    "print(f\"f-e = {f-e}\")\n",
    "print(f\"e*f = {e*f}\")\n",
    "print(f\"e*f = {e*f}\")"
   ]
  },
  {
   "cell_type": "code",
   "execution_count": 19,
   "id": "db59de28-31a0-47bc-a5c9-9e2450c73acc",
   "metadata": {},
   "outputs": [
    {
     "name": "stdout",
     "output_type": "stream",
     "text": [
      "G - [ 6  8 17  3  0 15  2], h - [ 7 14  6 10  3 12  5], sum = 476\n"
     ]
    }
   ],
   "source": [
    "#Створіть два вектори розміром 7, заповніть довільними числами та знайдіть їх скалярний добуток.\n",
    "g = np.random.randint(20, size=7)\n",
    "h = np.random.randint(20, size=7)\n",
    "mul = np.dot(g, h)\n",
    "print(f\"G - {g}, h - {h}, mul = {mul}\")"
   ]
  },
  {
   "cell_type": "code",
   "execution_count": 26,
   "id": "e4a5d72b-4b89-4194-8162-aa72b7030c0b",
   "metadata": {},
   "outputs": [
    {
     "name": "stdout",
     "output_type": "stream",
     "text": [
      "I - [[2 1]\n",
      " [2 0]], \n",
      "J - [[6 4 0]\n",
      " [4 2 2]], \n",
      "mul = [[16 10  2]\n",
      " [12  8  0]]\n"
     ]
    }
   ],
   "source": [
    "#Створіть дві матриці розміром 2x2 та 2x3, заповніть їх випадковими цілими числами в діапазоні від 1 до 10 та перемножте їх між собою.\n",
    "I = np.random.randint(11, size=(2, 2))\n",
    "J = np.random.randint(11, size=(2, 3))\n",
    "print(f\"I - {I}, \\nJ - {J}, \\nmul = {np.dot(I, J)}\")"
   ]
  },
  {
   "cell_type": "code",
   "execution_count": 28,
   "id": "d54c7f6f-cf94-4604-b278-de29ea738213",
   "metadata": {},
   "outputs": [
    {
     "name": "stdout",
     "output_type": "stream",
     "text": [
      "K - [[7 6 7]\n",
      " [9 0 7]\n",
      " [0 2 5]],\n",
      "K_inv - [[ 0.05785124  0.0661157  -0.17355372]\n",
      " [ 0.18595041 -0.1446281  -0.05785124]\n",
      " [-0.07438017  0.05785124  0.2231405 ]]\n"
     ]
    }
   ],
   "source": [
    "#Створіть матрицю розміром 3x3, заповніть її випадковими цілими числами в діапазоні від 1 до 10 та знайдіть її обернену матрицю.\n",
    "K = np.random.randint(11, size=(3, 3))\n",
    "K_inv = np.linalg.inv(K)\n",
    "print(f\"K - {K},\\nK_inv - {K_inv}\")"
   ]
  },
  {
   "cell_type": "code",
   "execution_count": 29,
   "id": "a6089dad-53f4-4b35-b61d-f95c47db3c9f",
   "metadata": {},
   "outputs": [
    {
     "name": "stdout",
     "output_type": "stream",
     "text": [
      "L - [[0.05563671 0.92935629 0.72745435 0.44073341]\n",
      " [0.10348231 0.81629798 0.07517253 0.9310348 ]\n",
      " [0.14774743 0.54771876 0.82717152 0.01007997]\n",
      " [0.49836547 0.75404217 0.87819087 0.73343593]],\n",
      "L(T) - [[0.05563671 0.10348231 0.14774743 0.49836547]\n",
      " [0.92935629 0.81629798 0.54771876 0.75404217]\n",
      " [0.72745435 0.07517253 0.82717152 0.87819087]\n",
      " [0.44073341 0.9310348  0.01007997 0.73343593]]\n"
     ]
    }
   ],
   "source": [
    "#Створіть матрицю розміром 4x4, заповніть її випадковими дійсними числами в діапазоні від 0 до 1 та транспонуйте її.\n",
    "L = np.random.random((4, 4))\n",
    "print(f\"L - {L},\\nL(T) - {L.T}\") "
   ]
  },
  {
   "cell_type": "code",
   "execution_count": 30,
   "id": "f19d7d00-e13a-4bed-ad4f-323f17b19303",
   "metadata": {},
   "outputs": [
    {
     "name": "stdout",
     "output_type": "stream",
     "text": [
      "M - [[ 4  3  6  4]\n",
      " [ 9 10  8  9]\n",
      " [ 6  4  6  5]],\n",
      "n - [5 9 9 3],\n",
      "mul = [113 234 135]\n"
     ]
    }
   ],
   "source": [
    "#Створіть матрицю розміром 3x4 та вектор розміром 4, заповніть їх випадковими цілими числами в діапазоні від 1 до 10 та перемножте матрицю на вектор.\n",
    "M = np.random.randint(11, size=(3, 4))\n",
    "n = np.random.randint(11, size=4)\n",
    "mul = np.dot(M, n)\n",
    "print(f\"M - {M},\\nn - {n},\\nmul = {mul}\")"
   ]
  },
  {
   "cell_type": "code",
   "execution_count": 31,
   "id": "f8a34dfb-70d7-4115-a868-33582da39509",
   "metadata": {},
   "outputs": [
    {
     "name": "stdout",
     "output_type": "stream",
     "text": [
      "O - [[0.50968398 0.23658982 0.61857493]\n",
      " [0.21272984 0.2924794  0.82889749]],\n",
      "p - [0.42612616 0.50157388 0.28537119],\n",
      "mul = [0.51238041 0.47389324]\n"
     ]
    }
   ],
   "source": [
    "#Створіть матрицю розміром 2x3 та вектор розміром 3, заповніть їх випадковими дійсними числами в діапазоні від 0 до 1 та перемножте матрицю на вектор.\n",
    "O = np.random.random((2, 3))\n",
    "p = np.random.random((3, ))\n",
    "mul = np.dot(O, p)\n",
    "print(f\"O - {O},\\np - {p},\\nmul = {mul}\")"
   ]
  },
  {
   "cell_type": "code",
   "execution_count": 32,
   "id": "12297518-6782-4418-a7c9-bfdd1dac4320",
   "metadata": {},
   "outputs": [
    {
     "name": "stdout",
     "output_type": "stream",
     "text": [
      "Q - [[ 9  2]\n",
      " [10  3]],\n",
      "R - [[ 3  7]\n",
      " [ 1 10]],\n",
      "mul = [[27 14]\n",
      " [10 30]]\n"
     ]
    }
   ],
   "source": [
    "#Створіть дві матриці розміром 2x2, заповніть їх випадковими цілими числами в діапазоні від 1 до 10 та виконайте їхнє поелементне множення.\n",
    "Q = np.random.randint(11, size=(2, 2))\n",
    "R = np.random.randint(11, size=(2, 2))\n",
    "print(f\"Q - {Q},\\nR - {R},\\nmul = {Q*R}\")"
   ]
  },
  {
   "cell_type": "code",
   "execution_count": 33,
   "id": "41913a87-5ce5-49b8-ab7c-67617247ca2a",
   "metadata": {},
   "outputs": [
    {
     "name": "stdout",
     "output_type": "stream",
     "text": [
      "S - [[6 7]\n",
      " [1 3]],\n",
      "T - [[1 2]\n",
      " [6 4]],\n",
      "mul = [[ 29  83]\n",
      " [ 33 100]]\n"
     ]
    }
   ],
   "source": [
    "#Створіть дві матриці розміром 2x2, заповніть їх випадковими цілими числами в діапазоні від 1 до 10 та знайдіть їх добуток.\n",
    "S = np.random.randint(11, size=(2, 2))\n",
    "T = np.random.randint(11, size=(2, 2))\n",
    "print(f\"S - {S},\\nT - {T},\\nmul = {np.dot(Q,R)}\")"
   ]
  },
  {
   "cell_type": "code",
   "execution_count": 35,
   "id": "3f514564-b9d7-4f5b-bee6-48f5698e36f8",
   "metadata": {},
   "outputs": [
    {
     "name": "stdout",
     "output_type": "stream",
     "text": [
      "U - [[17  3 64 64 43]\n",
      " [19 12 74 76 80]\n",
      " [59 90 52 73 25]\n",
      " [40 51  1 47 45]\n",
      " [11 88 75  1 64]],\n",
      "sum = 1174\n"
     ]
    }
   ],
   "source": [
    "#Створіть матрицю розміром 5x5, заповніть її випадковими цілими числами в діапазоні від 1 до 100 та знайдіть суму елементів матриці.\n",
    "U = np.random.randint(101, size=(5, 5))\n",
    "print(f\"U - {U},\\nsum = {U.sum()}\")"
   ]
  },
  {
   "cell_type": "code",
   "execution_count": 36,
   "id": "66193bea-7d3b-4b08-bc06-797edde1b960",
   "metadata": {},
   "outputs": [
    {
     "name": "stdout",
     "output_type": "stream",
     "text": [
      "V - [[10  4  6  8]\n",
      " [ 9  2  5  4]\n",
      " [ 3  8  4  3]\n",
      " [ 6  2  6  3]],\n",
      "W - [[ 5  3 10  5]\n",
      " [ 3  6  4 10]\n",
      " [ 2  7  4  6]\n",
      " [ 3  4  3 10]],\n",
      "div = [[ 5  1 -4  3]\n",
      " [ 6 -4  1 -6]\n",
      " [ 1  1  0 -3]\n",
      " [ 3 -2  3 -7]]\n"
     ]
    }
   ],
   "source": [
    "#Створіть дві матриці розміром 4x4, заповніть їх випадковими цілими числами в діапазоні від 1 до 10 та знайдіть їхню різницю.\n",
    "V = np.random.randint(11, size=(4, 4))\n",
    "W = np.random.randint(11, size=(4, 4))\n",
    "print(f\"V - {V},\\nW - {W},\\ndiv = {V-W}\") "
   ]
  },
  {
   "cell_type": "code",
   "execution_count": 52,
   "id": "8e26a322-db9b-4b4d-9286-42fafdd4b9c1",
   "metadata": {},
   "outputs": [
    {
     "name": "stdout",
     "output_type": "stream",
     "text": [
      "X - [[0.61149705 0.49326609 0.13567248]\n",
      " [0.55437154 0.29114995 0.54833446]\n",
      " [0.37264947 0.16986782 0.58350138]],\n",
      "vector - [[1.24043563]\n",
      " [1.39385596]\n",
      " [1.12601867]]\n"
     ]
    }
   ],
   "source": [
    "#Створіть матрицю розміром 3x3, заповніть її випадковими дійсними числами в діапазоні від 0 до 1 та знайдіть вектор-стовпчик, що містить суму елементів кожного рядка матриці.\n",
    "X = np.random.random((3, 3))\n",
    "sum1 = X[0,:].sum()\n",
    "sum2 = X[1,:].sum()\n",
    "sum3 = X[2,:].sum()\n",
    "res = np.array([sum1, sum2, sum3])\n",
    "print(f\"X - {X},\\nvector - {res.reshape(3, 1)}\")"
   ]
  },
  {
   "cell_type": "code",
   "execution_count": 46,
   "id": "d95a0a4e-8088-4d8a-a16a-39269a7c94b7",
   "metadata": {},
   "outputs": [
    {
     "name": "stdout",
     "output_type": "stream",
     "text": [
      "Y - [[ 4  2  7  8]\n",
      " [ 9 10  7  2]\n",
      " [ 1  7  9  3]],\n",
      "Y^2 - [[ 16   4  49  64]\n",
      " [ 81 100  49   4]\n",
      " [  1  49  81   9]]\n"
     ]
    }
   ],
   "source": [
    "#Створіть матрицю розміром 3x4 з довільними цілими числами і створінь матрицю з квадратами цих чисел.\n",
    "Y = np.random.randint(11, size=(3, 4))\n",
    "res = Y*Y\n",
    "print(f\"Y - {Y},\\nY^2 - {res}\")"
   ]
  },
  {
   "cell_type": "code",
   "execution_count": 47,
   "id": "fca85a74-b474-480a-838c-fef61bb7b29e",
   "metadata": {},
   "outputs": [
    {
     "name": "stdout",
     "output_type": "stream",
     "text": [
      "z - [21 45 22 21],\n",
      "sqrt - [4.58257569 6.70820393 4.69041576 4.58257569]\n"
     ]
    }
   ],
   "source": [
    "#Створіть вектор розміром 4, заповніть його випадковими цілими числами в діапазоні від 1 до 50 та знайдіть вектор з квадратними коренями цих чисел.\n",
    "z = np.random.randint(51, size=4)\n",
    "res = np.sqrt(z)\n",
    "print(f\"z - {z},\\nsqrt - {res}\")"
   ]
  },
  {
   "cell_type": "code",
   "execution_count": null,
   "id": "68ee4b45-e2e5-4742-b3b6-844dfb4cfbd2",
   "metadata": {},
   "outputs": [],
   "source": []
  }
 ],
 "metadata": {
  "kernelspec": {
   "display_name": "Python 3 (ipykernel)",
   "language": "python",
   "name": "python3"
  },
  "language_info": {
   "codemirror_mode": {
    "name": "ipython",
    "version": 3
   },
   "file_extension": ".py",
   "mimetype": "text/x-python",
   "name": "python",
   "nbconvert_exporter": "python",
   "pygments_lexer": "ipython3",
   "version": "3.10.3"
  }
 },
 "nbformat": 4,
 "nbformat_minor": 5
}
